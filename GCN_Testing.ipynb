{
 "cells": [
  {
   "cell_type": "code",
   "execution_count": 1,
   "metadata": {},
   "outputs": [],
   "source": [
    "import numpy as np\n",
    "A = np.matrix([\n",
    "[0, 1, 0, 0],\n",
    "[0, 0, 1, 1],\n",
    "[0, 1, 0, 0],\n",
    "[1, 0, 1, 0]],\n",
    "dtype=float\n",
    ")"
   ]
  },
  {
   "cell_type": "code",
   "execution_count": 2,
   "metadata": {},
   "outputs": [],
   "source": [
    "X = np.matrix([\n",
    "[i, -i]\n",
    "for i in range(A.shape[0])\n",
    "], dtype=float)"
   ]
  },
  {
   "cell_type": "code",
   "execution_count": 3,
   "metadata": {},
   "outputs": [
    {
     "data": {
      "text/plain": [
       "matrix([[ 0.,  0.],\n",
       "        [ 1., -1.],\n",
       "        [ 2., -2.],\n",
       "        [ 3., -3.]])"
      ]
     },
     "execution_count": 3,
     "metadata": {},
     "output_type": "execute_result"
    }
   ],
   "source": [
    "X"
   ]
  },
  {
   "cell_type": "code",
   "execution_count": 4,
   "metadata": {},
   "outputs": [
    {
     "data": {
      "text/plain": [
       "matrix([[ 1., -1.],\n",
       "        [ 5., -5.],\n",
       "        [ 1., -1.],\n",
       "        [ 2., -2.]])"
      ]
     },
     "execution_count": 4,
     "metadata": {},
     "output_type": "execute_result"
    }
   ],
   "source": [
    "A * X  # aggregation step, the rows are sum of features of neighborhood nodes of the focal node"
   ]
  },
  {
   "cell_type": "code",
   "execution_count": 5,
   "metadata": {},
   "outputs": [
    {
     "data": {
      "text/plain": [
       "matrix([[1., 0., 0., 0.],\n",
       "        [0., 1., 0., 0.],\n",
       "        [0., 0., 1., 0.],\n",
       "        [0., 0., 0., 1.]])"
      ]
     },
     "execution_count": 5,
     "metadata": {},
     "output_type": "execute_result"
    }
   ],
   "source": [
    "I = np.matrix(np.eye(A.shape[0]))\n",
    "I"
   ]
  },
  {
   "cell_type": "code",
   "execution_count": 6,
   "metadata": {},
   "outputs": [
    {
     "data": {
      "text/plain": [
       "matrix([[ 1., -1.],\n",
       "        [ 6., -6.],\n",
       "        [ 3., -3.],\n",
       "        [ 5., -5.]])"
      ]
     },
     "execution_count": 6,
     "metadata": {},
     "output_type": "execute_result"
    }
   ],
   "source": [
    "A_hat = A + I   # adding self-loops to each node, so that its own features get added as well\n",
    "A_hat * X"
   ]
  },
  {
   "cell_type": "code",
   "execution_count": 7,
   "metadata": {},
   "outputs": [
    {
     "data": {
      "text/plain": [
       "matrix([[1., 0., 0., 0.],\n",
       "        [0., 2., 0., 0.],\n",
       "        [0., 0., 2., 0.],\n",
       "        [0., 0., 0., 1.]])"
      ]
     },
     "execution_count": 7,
     "metadata": {},
     "output_type": "execute_result"
    }
   ],
   "source": [
    "D = np.array(np.sum(A, axis=0))[0]\n",
    "D = np.matrix(np.diag(D))\n",
    "D"
   ]
  },
  {
   "cell_type": "code",
   "execution_count": 8,
   "metadata": {},
   "outputs": [
    {
     "data": {
      "text/plain": [
       "matrix([[0. , 1. , 0. , 0. ],\n",
       "        [0. , 0. , 0.5, 0.5],\n",
       "        [0. , 0.5, 0. , 0. ],\n",
       "        [1. , 0. , 1. , 0. ]])"
      ]
     },
     "execution_count": 8,
     "metadata": {},
     "output_type": "execute_result"
    }
   ],
   "source": [
    "D**-1 * A  # Normalizing by multiplying with node degree inverse matrix, weights (the values) in each row of the adjacency\n",
    "           # matrix have been divided by the degree of the node corresponding to the row."
   ]
  },
  {
   "cell_type": "code",
   "execution_count": 9,
   "metadata": {},
   "outputs": [
    {
     "data": {
      "text/plain": [
       "matrix([[ 1. , -1. ],\n",
       "        [ 2.5, -2.5],\n",
       "        [ 0.5, -0.5],\n",
       "        [ 2. , -2. ]])"
      ]
     },
     "execution_count": 9,
     "metadata": {},
     "output_type": "execute_result"
    }
   ],
   "source": [
    "D**-1 * A * X # node representations corresponding to the mean of the features of neighboring nodes"
   ]
  },
  {
   "cell_type": "code",
   "execution_count": 10,
   "metadata": {},
   "outputs": [
    {
     "data": {
      "text/plain": [
       "matrix([[ 1., -1.],\n",
       "        [ 4., -4.],\n",
       "        [ 2., -2.],\n",
       "        [ 5., -5.]])"
      ]
     },
     "execution_count": 10,
     "metadata": {},
     "output_type": "execute_result"
    }
   ],
   "source": [
    "W = np.matrix([\n",
    "[1, -1],\n",
    "[-1, 1]])\n",
    "D_hat = np.array(np.sum(A_hat, axis=0))[0]\n",
    "D_hat = np.matrix(np.diag(D_hat))\n",
    "D_hat**-1 * A_hat * X * W"
   ]
  },
  {
   "cell_type": "code",
   "execution_count": null,
   "metadata": {},
   "outputs": [],
   "source": [
    "W = np.matrix([\n",
    "[1, -1],\n",
    "[-1, 1]\n",
    "])\n",
    "relu(D_hat**-1 * A_hat * X * W)"
   ]
  },
  {
   "cell_type": "code",
   "execution_count": 11,
   "metadata": {},
   "outputs": [],
   "source": [
    "from networkx import karate_club_graph, to_numpy_matrix\n",
    "zkc = karate_club_graph()\n",
    "order = sorted(list(zkc.nodes()))\n",
    "A = to_numpy_matrix(zkc, nodelist=order)\n",
    "I = np.eye(zkc.number_of_nodes())\n",
    "A_hat = A + I\n",
    "D_hat = np.array(np.sum(A_hat, axis=0))[0]\n",
    "D_hat = np.matrix(np.diag(D_hat))"
   ]
  },
  {
   "cell_type": "code",
   "execution_count": 12,
   "metadata": {},
   "outputs": [
    {
     "name": "stdout",
     "output_type": "stream",
     "text": [
      "[[-0.28411331 -0.5877636  -0.13186734  0.26957002]\n",
      " [ 1.41037636 -1.76057503 -0.35851621 -0.48388847]\n",
      " [-0.66943939 -0.59414005  0.74551312 -0.86607812]\n",
      " [-1.42643331  0.56889389 -0.61938461  0.05406269]\n",
      " [ 1.70150268 -0.61467816  0.19515931 -1.14274086]\n",
      " [ 0.7839563   0.77009504  1.88371538  1.45247433]\n",
      " [-0.18724254  0.87013188 -0.60401699 -2.15817176]\n",
      " [-0.03826618 -0.58912314 -0.42518231  0.01130105]\n",
      " [-0.35654329 -0.65252821  0.3013118  -1.12715343]\n",
      " [ 1.03958521  0.3204367   0.10556477 -0.14716962]\n",
      " [-0.43464088 -1.04503409 -1.61290533 -0.37793519]\n",
      " [-0.80098914 -0.1015106  -0.30426043  0.94668107]\n",
      " [-1.04842602 -0.51142654  0.3768901   0.56541062]\n",
      " [ 0.64855952 -0.84213442 -1.23840713  1.36334231]\n",
      " [-1.30515029  1.91509383 -1.40261371  0.01895369]\n",
      " [-0.19602068  0.73970908  0.58940358  0.33735623]\n",
      " [ 0.71720172  1.27723796 -0.53338574  2.58047236]\n",
      " [ 0.75164387 -0.465787   -0.11485231 -1.51962501]\n",
      " [-0.24659314 -1.83097504  0.48629131  0.10958584]\n",
      " [-0.48049814 -0.34121809 -2.00614709  0.46151203]\n",
      " [ 1.08392926  1.74702085  0.65622554 -1.29617645]\n",
      " [-0.21147537  0.69104396 -0.17736386 -0.25665843]\n",
      " [ 0.70114646 -1.59808407  0.17177354 -0.66169129]\n",
      " [-0.37154667  0.32057691 -0.54323377 -0.69096049]\n",
      " [-0.90325349 -1.6374257  -0.58732619  1.84276957]\n",
      " [-0.45377181  0.40766136  0.69995696 -1.43864595]\n",
      " [ 0.23201983  0.39030993 -0.5027496  -0.13420795]\n",
      " [-0.19086253 -0.65681147  0.93066037  0.77015563]\n",
      " [-0.23130526  0.98077463  0.83194753  2.27841515]\n",
      " [ 1.13250617 -1.75142719  0.54278223  0.54503599]\n",
      " [ 0.45436545  1.35292224  0.19777849 -0.82576231]\n",
      " [ 1.47275513 -1.31135709  0.32264685 -0.122517  ]\n",
      " [ 1.93411866  1.41115451 -0.91622898  0.00816216]\n",
      " [ 0.33054886  2.5652675  -0.23531258 -0.34132567]]\n",
      "[[ 0.40177975 -1.15359058]\n",
      " [-0.82985323  1.76832041]\n",
      " [ 0.80785781 -0.98793996]\n",
      " [-0.45235994  1.40622022]]\n"
     ]
    }
   ],
   "source": [
    "import numpy as np\n",
    "W_1 = np.random.normal(\n",
    "loc=0, scale=1, size=(zkc.number_of_nodes(), 4))\n",
    "W_2 = np.random.normal(\n",
    "loc=0, size=(W_1.shape[1], 2))\n",
    "print(W_1)\n",
    "print(W_2)"
   ]
  },
  {
   "cell_type": "code",
   "execution_count": 13,
   "metadata": {},
   "outputs": [],
   "source": [
    "def gcn_layer(A_hat, D_hat, X, W):\n",
    "    return (D_hat**-1 * A_hat * X * W)"
   ]
  },
  {
   "cell_type": "code",
   "execution_count": 14,
   "metadata": {},
   "outputs": [],
   "source": [
    "H_1 = gcn_layer(A_hat, D_hat, I, W_1)\n",
    "H_2 = gcn_layer(A_hat, D_hat, H_1, W_2)"
   ]
  },
  {
   "cell_type": "code",
   "execution_count": 15,
   "metadata": {},
   "outputs": [],
   "source": [
    "output = H_2"
   ]
  },
  {
   "cell_type": "code",
   "execution_count": 16,
   "metadata": {},
   "outputs": [
    {
     "data": {
      "text/plain": [
       "{0: array([ 0.05488712, -0.29730244]),\n",
       " 1: array([ 0.17968352, -0.70260413]),\n",
       " 2: array([ 0.03482605, -0.17738651]),\n",
       " 3: array([ 0.03562974, -0.18580038]),\n",
       " 4: array([ 0.26415947, -0.83473136]),\n",
       " 5: array([-0.09178258,  0.20491434]),\n",
       " 6: array([-0.13426489,  0.13879582]),\n",
       " 7: array([ 0.17272608, -0.53940823]),\n",
       " 8: array([ 0.03020578, -0.31928995]),\n",
       " 9: array([-0.05255735,  0.01738386]),\n",
       " 10: array([ 0.14877179, -0.60648274]),\n",
       " 11: array([-0.07327272,  0.16466289]),\n",
       " 12: array([-0.01322121,  0.0296052 ]),\n",
       " 13: array([ 0.04010667, -0.26649225]),\n",
       " 14: array([-0.67676885,  1.06822069]),\n",
       " 15: array([-0.35607365,  0.52619983]),\n",
       " 16: array([-0.40809148,  0.98555062]),\n",
       " 17: array([ 0.44399295, -1.35604702]),\n",
       " 18: array([-0.11910635,  0.00332429]),\n",
       " 19: array([-0.07627554, -0.18086483]),\n",
       " 20: array([-0.30371094,  0.2974875 ]),\n",
       " 21: array([ 0.22523988, -0.80110704]),\n",
       " 22: array([-0.08773674, -0.15837998]),\n",
       " 23: array([-0.00548353, -0.1250816 ]),\n",
       " 24: array([ 0.21007893, -0.29285251]),\n",
       " 25: array([ 0.24805015, -0.46381464]),\n",
       " 26: array([-0.23264725,  0.21375948]),\n",
       " 27: array([ 0.13176557, -0.2249522 ]),\n",
       " 28: array([-0.07033074,  0.21352563]),\n",
       " 29: array([-0.10048389, -0.02512179]),\n",
       " 30: array([-0.03846628, -0.24749022]),\n",
       " 31: array([ 0.18952674, -0.3842731 ]),\n",
       " 32: array([-0.45843578,  0.61444693]),\n",
       " 33: array([-0.3975628 ,  0.55435818])}"
      ]
     },
     "execution_count": 16,
     "metadata": {},
     "output_type": "execute_result"
    }
   ],
   "source": [
    "feature_representations = {\n",
    "node: np.array(output)[node]\n",
    "for node in zkc.nodes()}\n",
    "feature_representations"
   ]
  },
  {
   "cell_type": "code",
   "execution_count": 18,
   "metadata": {},
   "outputs": [
    {
     "data": {
      "image/png": "[encoded data removed]",
      "text/plain": [
       "<Figure size 432x288 with 1 Axes>"
      ]
     },
     "metadata": {},
     "output_type": "display_data"
    }
   ],
   "source": [
    "import matplotlib.pyplot as plt\n",
    "import networkx as nx\n",
    "plt.subplot(121)\n",
    "nx.draw(zkc, with_labels=True, font_weight='bold')"
   ]
  }
 ],
 "metadata": {
  "kernelspec": {
   "display_name": "Python [default]",
   "language": "python",
   "name": "python3"
  },
  "language_info": {
   "codemirror_mode": {
    "name": "ipython",
    "version": 3
   },
   "file_extension": ".py",
   "mimetype": "text/x-python",
   "name": "python",
   "nbconvert_exporter": "python",
   "pygments_lexer": "ipython3",
   "version": "3.6.5"
  }
 },
 "nbformat": 4,
 "nbformat_minor": 2
}
